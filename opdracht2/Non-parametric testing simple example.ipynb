{
 "cells": [
  {
   "cell_type": "code",
   "execution_count": 1,
   "metadata": {},
   "outputs": [],
   "source": [
    "import numpy as np\n",
    "import matplotlib.pyplot as plt"
   ]
  },
  {
   "cell_type": "code",
   "execution_count": null,
   "metadata": {},
   "outputs": [
    {
     "data": {
      "text/plain": [
       "np.float64(0.08621189239645369)"
      ]
     },
     "execution_count": 2,
     "metadata": {},
     "output_type": "execute_result"
    }
   ],
   "source": [
    "sample = np.random.uniform(-1, 1, 10)  # our 'population' is an infinite set of numbers forming the uniform distribution in [-1,1)\n",
    "test_statistic = np.mean(sample)\n",
    "test_statistic"
   ]
  },
  {
   "cell_type": "code",
   "execution_count": 3,
   "metadata": {},
   "outputs": [
    {
     "data": {
      "image/png": "[encoded data removed]",
      "text/plain": [
       "<Figure size 200x200 with 1 Axes>"
      ]
     },
     "metadata": {},
     "output_type": "display_data"
    }
   ],
   "source": [
    "plt.figure(figsize=(2, 2))\n",
    "plt.hist(sample)\n",
    "plt.ylabel('Frequency')\n",
    "plt.xlabel('Value')\n",
    "plt.plot([test_statistic, test_statistic], [plt.ylim()[0], plt.ylim()[1]], '-k')\n",
    "plt.show()"
   ]
  },
  {
   "cell_type": "code",
   "execution_count": 4,
   "metadata": {},
   "outputs": [],
   "source": [
    "numsamples = 10000  # number of surrogate data sets to be generated for sampling surrogate test statistics\n",
    "surrogate_test_statistics = [np.mean(np.random.choice(sample, 10, replace=True)) for _ in range(numsamples)]"
   ]
  },
  {
   "cell_type": "code",
   "execution_count": 5,
   "metadata": {},
   "outputs": [
    {
     "data": {
      "image/png": "[encoded data removed]",
      "text/plain": [
       "<Figure size 200x200 with 1 Axes>"
      ]
     },
     "metadata": {},
     "output_type": "display_data"
    }
   ],
   "source": [
    "plt.figure(figsize=(2, 2))\n",
    "plt.hist(surrogate_test_statistics)\n",
    "plt.plot([0, 0], [plt.ylim()[0], plt.ylim()[1]], '-k')\n",
    "plt.show()"
   ]
  },
  {
   "cell_type": "markdown",
   "metadata": {},
   "source": [
    "## Hypothesis: the population mean is 0.0"
   ]
  },
  {
   "cell_type": "code",
   "execution_count": 6,
   "metadata": {},
   "outputs": [],
   "source": [
    "alpha = 0.05"
   ]
  },
  {
   "cell_type": "code",
   "execution_count": 7,
   "metadata": {},
   "outputs": [
    {
     "data": {
      "text/plain": [
       "0.501"
      ]
     },
     "execution_count": 7,
     "metadata": {},
     "output_type": "execute_result"
    }
   ],
   "source": [
    "if test_statistic > 0.0:\n",
    "    p_value = sum([1 for sts in surrogate_test_statistics if sts <= 0.0]) * 2 / numsamples\n",
    "else:\n",
    "    p_value = sum([1 for sts in surrogate_test_statistics if sts >= 0.0]) * 2 / numsamples\n",
    "p_value"
   ]
  },
  {
   "cell_type": "code",
   "execution_count": 8,
   "metadata": {},
   "outputs": [
    {
     "name": "stdout",
     "output_type": "stream",
     "text": [
      "reject: False\n"
     ]
    }
   ],
   "source": [
    "print('reject:', p_value < alpha)"
   ]
  },
  {
   "cell_type": "markdown",
   "metadata": {},
   "source": [
    "## Alternative method:"
   ]
  },
  {
   "cell_type": "code",
   "execution_count": 9,
   "metadata": {},
   "outputs": [
    {
     "data": {
      "image/png": "[encoded data removed]",
      "text/plain": [
       "<Figure size 200x200 with 1 Axes>"
      ]
     },
     "metadata": {},
     "output_type": "display_data"
    },
    {
     "name": "stdout",
     "output_type": "stream",
     "text": [
      "p-value = 0.5126\n",
      "reject: False\n"
     ]
    }
   ],
   "source": [
    "sample2 = sample - np.mean(sample)  # make the hypothesis H0 true!\n",
    "surrogate_test_statistics2 = [np.mean(np.random.choice(sample2, 10, replace=True)) for _ in range(numsamples)]\n",
    "plt.figure(figsize=(2, 2))\n",
    "plt.hist(surrogate_test_statistics2)\n",
    "plt.plot([test_statistic, test_statistic], [plt.ylim()[0], plt.ylim()[1]], '-k')\n",
    "plt.show()\n",
    "if test_statistic > 0.0:\n",
    "    p_value2 = sum([1 for sts in surrogate_test_statistics2 if sts >= test_statistic or sts <= -test_statistic]) / numsamples\n",
    "else:\n",
    "    p_value2 = sum([1 for sts in surrogate_test_statistics2 if sts <= test_statistic or sts >= -test_statistic]) / numsamples\n",
    "print('p-value =', p_value2)\n",
    "print('reject:', p_value2 < alpha)"
   ]
  }
 ],
 "metadata": {
  "kernelspec": {
   "display_name": "Python 3",
   "language": "python",
   "name": "python3"
  },
  "language_info": {
   "codemirror_mode": {
    "name": "ipython",
    "version": 3
   },
   "file_extension": ".py",
   "mimetype": "text/x-python",
   "name": "python",
   "nbconvert_exporter": "python",
   "pygments_lexer": "ipython3",
   "version": "3.12.2"
  },
  "orig_nbformat": 4
 },
 "nbformat": 4,
 "nbformat_minor": 2
}
